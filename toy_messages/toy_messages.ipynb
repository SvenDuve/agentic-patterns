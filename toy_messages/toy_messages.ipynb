{
 "cells": [
  {
   "cell_type": "markdown",
   "metadata": {},
   "source": [
    "# Pattern\n",
    "\n",
    "Here we check out Messages in Langgraph, how they can be chained and used.\n",
    "\n",
    "- Ways to chain messages\n",
    "- Ways to use the messages for invocation\n",
    "- Ways to pick messages from the chain\n",
    "- Ways to summarize them\n",
    "- Ways to delete them\n"
   ]
  },
  {
   "cell_type": "markdown",
   "metadata": {},
   "source": [
    "# Model"
   ]
  },
  {
   "cell_type": "code",
   "execution_count": 42,
   "metadata": {},
   "outputs": [],
   "source": [
    "from langchain_openai import ChatOpenAI\n",
    "\n",
    "llm = ChatOpenAI(model=\"gpt-4o\")"
   ]
  },
  {
   "cell_type": "markdown",
   "metadata": {},
   "source": [
    "# Messages"
   ]
  },
  {
   "cell_type": "code",
   "execution_count": 52,
   "metadata": {},
   "outputs": [],
   "source": [
    "from langchain_core.messages import AIMessage, HumanMessage, SystemMessage\n",
    "\n",
    "messages = [SystemMessage(\"You are a super friendly outgoing AI chatbot, your replies come with a joke about the weather.\")]\n",
    "messages.append(HumanMessage(\"Hello, I am Sven, how are you?\"))\n",
    "messages.append(AIMessage(\"I am fine, thank you. How can I help you?\"))\n",
    "messages.append(HumanMessage(\"Whats my name?\"))"
   ]
  },
  {
   "cell_type": "code",
   "execution_count": 53,
   "metadata": {},
   "outputs": [
    {
     "data": {
      "text/plain": [
       "AIMessage(content='Hello Sven! Nice to meet you! How can I assist you today? By the way, did you hear about the tornado that went through the library? It took the words right out of my mouth! 😄', additional_kwargs={'refusal': None}, response_metadata={'token_usage': {'completion_tokens': 43, 'prompt_tokens': 65, 'total_tokens': 108, 'completion_tokens_details': {'accepted_prediction_tokens': 0, 'audio_tokens': 0, 'reasoning_tokens': 0, 'rejected_prediction_tokens': 0}, 'prompt_tokens_details': {'audio_tokens': 0, 'cached_tokens': 0}}, 'model_name': 'gpt-4o-2024-08-06', 'system_fingerprint': 'fp_9d50cd990b', 'finish_reason': 'stop', 'logprobs': None}, id='run-8ac8b6ab-1def-47c8-a732-9fee022f1bd4-0', usage_metadata={'input_tokens': 65, 'output_tokens': 43, 'total_tokens': 108, 'input_token_details': {'audio': 0, 'cache_read': 0}, 'output_token_details': {'audio': 0, 'reasoning': 0}})"
      ]
     },
     "execution_count": 53,
     "metadata": {},
     "output_type": "execute_result"
    }
   ],
   "source": [
    "llm.invoke(messages)"
   ]
  },
  {
   "cell_type": "markdown",
   "metadata": {},
   "source": [
    "# Tools"
   ]
  },
  {
   "cell_type": "code",
   "execution_count": 3,
   "metadata": {},
   "outputs": [
    {
     "name": "stdout",
     "output_type": "stream",
     "text": [
      "Source Code:\n",
      "\n",
      "def add_numbers(a:int, b:int) -> int:\n",
      "    \"\"\"\n",
      "    Adds two numbers together.\n",
      "\n",
      "    Args:\n",
      "        a: The first int.\n",
      "        b: The second int.\n",
      "\n",
      "    Returns:\n",
      "        int: The sum of the two numbers.\n",
      "    \"\"\"\n",
      "    return a + b\n",
      "\n"
     ]
    }
   ],
   "source": [
    "from utils.toolbox import add_numbers, decide_to_play_lottery\n",
    "import inspect\n",
    "\n",
    "print(\"Source Code:\\n\")\n",
    "print(inspect.getsource(add_numbers))\n"
   ]
  },
  {
   "cell_type": "code",
   "execution_count": 4,
   "metadata": {},
   "outputs": [
    {
     "name": "stdout",
     "output_type": "stream",
     "text": [
      "def decide_to_play_lottery(p:float) -> bool:\n",
      "    \"\"\"\n",
      "    Given a certain probability, decide to play the lottery or not.\n",
      "\n",
      "    Args:\n",
      "        p: The probability of winning.\n",
      "    \"\"\"\n",
      "    if p > 0.7:\n",
      "        return True\n",
      "    else:\n",
      "        return False\n",
      "\n"
     ]
    }
   ],
   "source": [
    "print(inspect.getsource(decide_to_play_lottery))"
   ]
  },
  {
   "cell_type": "code",
   "execution_count": 6,
   "metadata": {},
   "outputs": [],
   "source": [
    "llm_with_tools = llm.bind_tools([add_numbers, decide_to_play_lottery])"
   ]
  },
  {
   "cell_type": "code",
   "execution_count": 24,
   "metadata": {},
   "outputs": [
    {
     "name": "stdout",
     "output_type": "stream",
     "text": [
      "{'refusal': None,\n",
      " 'tool_calls': [{'function': {'arguments': '{\"a\":2,\"b\":3}',\n",
      "                              'name': 'add_numbers'},\n",
      "                 'id': 'call_2IYXZt5uTmjsL0QDvMPEB60W',\n",
      "                 'type': 'function'}]}\n"
     ]
    }
   ],
   "source": [
    "ai_msg = llm_with_tools.invoke([HumanMessage(content=f\"What is 2 plus 3?\", name=\"Sven\")])\n",
    "pprint(ai_msg.additional_kwargs)"
   ]
  },
  {
   "cell_type": "code",
   "execution_count": 25,
   "metadata": {},
   "outputs": [
    {
     "name": "stdout",
     "output_type": "stream",
     "text": [
      "{'refusal': None,\n",
      " 'tool_calls': [{'function': {'arguments': '{\"p\":0.8}',\n",
      "                              'name': 'decide_to_play_lottery'},\n",
      "                 'id': 'call_DTX4VTkAC7weuZpNr9aH6k6P',\n",
      "                 'type': 'function'}]}\n"
     ]
    }
   ],
   "source": [
    "ai_msg = llm_with_tools.invoke([HumanMessage(content=f\"Should I play the lottery, the probability of winning is 0.8?\", name=\"Sven\")])\n",
    "pprint(ai_msg.additional_kwargs)"
   ]
  },
  {
   "cell_type": "markdown",
   "metadata": {},
   "source": [
    "# State"
   ]
  },
  {
   "cell_type": "code",
   "execution_count": 26,
   "metadata": {},
   "outputs": [],
   "source": [
    "from typing_extensions import TypedDict\n",
    "from typing import Annotated\n",
    "from langchain_core.messages import AnyMessage\n",
    "from langgraph.graph.message import add_messages\n",
    "\n",
    "class MessagesState(TypedDict):\n",
    "    messages: Annotated[list[AnyMessage], add_messages]\n"
   ]
  },
  {
   "cell_type": "markdown",
   "metadata": {},
   "source": [
    "is equivalent to"
   ]
  },
  {
   "cell_type": "code",
   "execution_count": 27,
   "metadata": {},
   "outputs": [],
   "source": [
    "from langgraph.graph import MessagesState\n",
    "\n",
    "class MessagesState(MessagesState):\n",
    "    # Add any keys needed beyond messages, which is pre-built \n",
    "    pass"
   ]
  },
  {
   "cell_type": "code",
   "execution_count": 28,
   "metadata": {},
   "outputs": [
    {
     "name": "stdout",
     "output_type": "stream",
     "text": [
      "is Type of: <class '__main__.MessagesState'>\n"
     ]
    }
   ],
   "source": [
    "print(f\"is Type of: {MessagesState}\")"
   ]
  },
  {
   "cell_type": "markdown",
   "metadata": {},
   "source": [
    "# Nodes"
   ]
  },
  {
   "cell_type": "markdown",
   "metadata": {},
   "source": [
    "# Graph"
   ]
  },
  {
   "cell_type": "markdown",
   "metadata": {},
   "source": [
    "## Construction"
   ]
  },
  {
   "cell_type": "code",
   "execution_count": 54,
   "metadata": {},
   "outputs": [],
   "source": [
    "from IPython.display import Image, display\n",
    "from langgraph.graph import StateGraph, START, END\n",
    "    \n",
    "# Node\n",
    "def tool_calling_llm(state: MessagesState):\n",
    "    return {\"messages\": [llm_with_tools.invoke(state[\"messages\"])]}\n",
    "\n",
    "# Build graph\n",
    "builder = StateGraph(MessagesState)\n",
    "builder.add_node(\"tool_calling_llm\", tool_calling_llm)\n",
    "builder.add_edge(START, \"tool_calling_llm\")\n",
    "builder.add_edge(\"tool_calling_llm\", END)\n",
    "graph = builder.compile()\n"
   ]
  },
  {
   "cell_type": "markdown",
   "metadata": {},
   "source": [
    "## Visualization"
   ]
  },
  {
   "cell_type": "code",
   "execution_count": 55,
   "metadata": {},
   "outputs": [
    {
     "data": {
      "image/png": "[encoded data removed]",
      "text/plain": [
       "<IPython.core.display.Image object>"
      ]
     },
     "metadata": {},
     "output_type": "display_data"
    }
   ],
   "source": [
    "# View\n",
    "display(Image(graph.get_graph().draw_mermaid_png()))"
   ]
  },
  {
   "cell_type": "markdown",
   "metadata": {},
   "source": [
    "# Invocation"
   ]
  },
  {
   "cell_type": "code",
   "execution_count": 56,
   "metadata": {},
   "outputs": [
    {
     "name": "stdout",
     "output_type": "stream",
     "text": [
      "================================\u001b[1m Human Message \u001b[0m=================================\n",
      "\n",
      "Hi, this is Sven.\n",
      "==================================\u001b[1m Ai Message \u001b[0m==================================\n",
      "\n",
      "Hello Sven! How can I assist you today?\n"
     ]
    }
   ],
   "source": [
    "msgs = graph.invoke({\"messages\" : \"Hi, this is Sven.\"})\n",
    "for m in msgs['messages']:\n",
    "    m.pretty_print()"
   ]
  },
  {
   "cell_type": "code",
   "execution_count": 57,
   "metadata": {},
   "outputs": [
    {
     "name": "stdout",
     "output_type": "stream",
     "text": [
      "================================\u001b[1m Human Message \u001b[0m=================================\n",
      "\n",
      "What is 5 plus 10\n",
      "==================================\u001b[1m Ai Message \u001b[0m==================================\n",
      "Tool Calls:\n",
      "  add_numbers (call_uow1hTGa9hcBfoI2QY6LMWej)\n",
      " Call ID: call_uow1hTGa9hcBfoI2QY6LMWej\n",
      "  Args:\n",
      "    a: 5\n",
      "    b: 10\n"
     ]
    }
   ],
   "source": [
    "msgs = graph.invoke({\"messages\" : \"What is 5 plus 10\"})\n",
    "for m in msgs['messages']:\n",
    "    m.pretty_print()"
   ]
  },
  {
   "cell_type": "code",
   "execution_count": 37,
   "metadata": {},
   "outputs": [
    {
     "name": "stdout",
     "output_type": "stream",
     "text": [
      "================================\u001b[1m Human Message \u001b[0m=================================\n",
      "\n",
      "The lottery probability is 0.4\n",
      "==================================\u001b[1m Ai Message \u001b[0m==================================\n",
      "Tool Calls:\n",
      "  decide_to_play_lottery (call_oKUGF04Me3uqRciDZye0dpiU)\n",
      " Call ID: call_oKUGF04Me3uqRciDZye0dpiU\n",
      "  Args:\n",
      "    p: 0.4\n"
     ]
    }
   ],
   "source": [
    "msgs = graph.invoke({\"messages\" : \"The lottery probability is 0.4\"})\n",
    "for m in msgs['messages']:\n",
    "    m.pretty_print()"
   ]
  },
  {
   "cell_type": "code",
   "execution_count": null,
   "metadata": {},
   "outputs": [],
   "source": []
  },
  {
   "cell_type": "code",
   "execution_count": null,
   "metadata": {},
   "outputs": [],
   "source": []
  }
 ],
 "metadata": {
  "kernelspec": {
   "display_name": "agentic-patterns",
   "language": "python",
   "name": "venv"
  },
  "language_info": {
   "codemirror_mode": {
    "name": "ipython",
    "version": 3
   },
   "file_extension": ".py",
   "mimetype": "text/x-python",
   "name": "python",
   "nbconvert_exporter": "python",
   "pygments_lexer": "ipython3",
   "version": "3.11.4"
  }
 },
 "nbformat": 4,
 "nbformat_minor": 2
}
